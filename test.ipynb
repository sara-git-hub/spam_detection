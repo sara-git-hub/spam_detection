{
 "cells": [
  {
   "cell_type": "code",
   "execution_count": 15,
   "id": "7ca6fac2",
   "metadata": {},
   "outputs": [],
   "source": [
    "import pandas as pd\n",
    "import numpy as np\n",
    "import re\n",
    "import string\n",
    "from nltk.tokenize import word_tokenize\n",
    "from nltk.corpus import stopwords\n",
    "from nltk.stem import PorterStemmer\n",
    "from wordcloud import WordCloud\n",
    "import nltk\n",
    "import joblib"
   ]
  },
  {
   "cell_type": "code",
   "execution_count": 16,
   "id": "21d105e0",
   "metadata": {},
   "outputs": [],
   "source": [
    "nltk.download('stopwords', quiet=True)\n",
    "nltk.download('punkt_tab', quiet=True)\n",
    "stop_words = set(stopwords.words('english'))\n",
    "stemmer = PorterStemmer()"
   ]
  },
  {
   "cell_type": "code",
   "execution_count": 17,
   "id": "9d3ea9d6",
   "metadata": {},
   "outputs": [
    {
     "name": "stdout",
     "output_type": "stream",
     "text": [
      "Pipeline(steps=[('tfidf',\n",
      "                 TfidfVectorizer(max_df=0.95, max_features=5000, min_df=2,\n",
      "                                 ngram_range=(1, 2))),\n",
      "                ('clf',\n",
      "                 CalibratedClassifierCV(cv=5,\n",
      "                                        estimator=LinearSVC(C=1, max_iter=5000,\n",
      "                                                            random_state=42)))])\n"
     ]
    }
   ],
   "source": [
    "model = joblib.load(\"model.pkl\")\n",
    "print(model)"
   ]
  },
  {
   "cell_type": "code",
   "execution_count": 18,
   "id": "e006df94",
   "metadata": {},
   "outputs": [],
   "source": [
    "data=pd.read_csv(\"DataSet_Emails.csv\",index_col=0)"
   ]
  },
  {
   "cell_type": "code",
   "execution_count": 19,
   "id": "f65711c5",
   "metadata": {},
   "outputs": [],
   "source": [
    "data=data.dropna(subset='text')"
   ]
  },
  {
   "cell_type": "code",
   "execution_count": 20,
   "id": "9068cade",
   "metadata": {},
   "outputs": [],
   "source": [
    "data = data.reset_index(drop=True)"
   ]
  },
  {
   "cell_type": "code",
   "execution_count": 21,
   "id": "801ad256",
   "metadata": {},
   "outputs": [
    {
     "data": {
      "text/html": [
       "<div>\n",
       "<style scoped>\n",
       "    .dataframe tbody tr th:only-of-type {\n",
       "        vertical-align: middle;\n",
       "    }\n",
       "\n",
       "    .dataframe tbody tr th {\n",
       "        vertical-align: top;\n",
       "    }\n",
       "\n",
       "    .dataframe thead th {\n",
       "        text-align: right;\n",
       "    }\n",
       "</style>\n",
       "<table border=\"1\" class=\"dataframe\">\n",
       "  <thead>\n",
       "    <tr style=\"text-align: right;\">\n",
       "      <th></th>\n",
       "      <th>message_id</th>\n",
       "      <th>text</th>\n",
       "      <th>label</th>\n",
       "      <th>label_text</th>\n",
       "      <th>subject</th>\n",
       "      <th>message</th>\n",
       "      <th>date</th>\n",
       "    </tr>\n",
       "  </thead>\n",
       "  <tbody>\n",
       "    <tr>\n",
       "      <th>0</th>\n",
       "      <td>33214</td>\n",
       "      <td>any software just for 15 $ - 99 $ understandin...</td>\n",
       "      <td>1</td>\n",
       "      <td>spam</td>\n",
       "      <td>any software just for 15 $ - 99 $</td>\n",
       "      <td>understanding oem software\\nlead me not into t...</td>\n",
       "      <td>2005-06-18</td>\n",
       "    </tr>\n",
       "    <tr>\n",
       "      <th>1</th>\n",
       "      <td>11929</td>\n",
       "      <td>perspective on ferc regulatory action client c...</td>\n",
       "      <td>0</td>\n",
       "      <td>ham</td>\n",
       "      <td>perspective on ferc regulatory action client c...</td>\n",
       "      <td>19 th , 2 : 00 pm edt\\nperspective on ferc reg...</td>\n",
       "      <td>2001-06-19</td>\n",
       "    </tr>\n",
       "    <tr>\n",
       "      <th>2</th>\n",
       "      <td>19784</td>\n",
       "      <td>wanted to try ci 4 lis but thought it was way ...</td>\n",
       "      <td>1</td>\n",
       "      <td>spam</td>\n",
       "      <td>wanted to try ci 4 lis but thought it was way ...</td>\n",
       "      <td>viagra at $ 1 . 12 per dose\\nready to boost yo...</td>\n",
       "      <td>2004-09-11</td>\n",
       "    </tr>\n",
       "    <tr>\n",
       "      <th>3</th>\n",
       "      <td>2209</td>\n",
       "      <td>enron / hpl actuals for december 11 , 2000 tec...</td>\n",
       "      <td>0</td>\n",
       "      <td>ham</td>\n",
       "      <td>enron / hpl actuals for december 11 , 2000</td>\n",
       "      <td>teco tap 30 . 000 / enron ; 120 . 000 / hpl ga...</td>\n",
       "      <td>2000-12-12</td>\n",
       "    </tr>\n",
       "    <tr>\n",
       "      <th>4</th>\n",
       "      <td>15880</td>\n",
       "      <td>looking for cheap high - quality software ? ro...</td>\n",
       "      <td>1</td>\n",
       "      <td>spam</td>\n",
       "      <td>looking for cheap high - quality software ? ro...</td>\n",
       "      <td>water past also , burn , course . gave country...</td>\n",
       "      <td>2005-02-13</td>\n",
       "    </tr>\n",
       "  </tbody>\n",
       "</table>\n",
       "</div>"
      ],
      "text/plain": [
       "   message_id                                               text  label  \\\n",
       "0       33214  any software just for 15 $ - 99 $ understandin...      1   \n",
       "1       11929  perspective on ferc regulatory action client c...      0   \n",
       "2       19784  wanted to try ci 4 lis but thought it was way ...      1   \n",
       "3        2209  enron / hpl actuals for december 11 , 2000 tec...      0   \n",
       "4       15880  looking for cheap high - quality software ? ro...      1   \n",
       "\n",
       "  label_text                                            subject  \\\n",
       "0       spam                  any software just for 15 $ - 99 $   \n",
       "1        ham  perspective on ferc regulatory action client c...   \n",
       "2       spam  wanted to try ci 4 lis but thought it was way ...   \n",
       "3        ham         enron / hpl actuals for december 11 , 2000   \n",
       "4       spam  looking for cheap high - quality software ? ro...   \n",
       "\n",
       "                                             message        date  \n",
       "0  understanding oem software\\nlead me not into t...  2005-06-18  \n",
       "1  19 th , 2 : 00 pm edt\\nperspective on ferc reg...  2001-06-19  \n",
       "2  viagra at $ 1 . 12 per dose\\nready to boost yo...  2004-09-11  \n",
       "3  teco tap 30 . 000 / enron ; 120 . 000 / hpl ga...  2000-12-12  \n",
       "4  water past also , burn , course . gave country...  2005-02-13  "
      ]
     },
     "execution_count": 21,
     "metadata": {},
     "output_type": "execute_result"
    }
   ],
   "source": [
    "data.head()"
   ]
  },
  {
   "cell_type": "code",
   "execution_count": 22,
   "id": "5ae72d3a",
   "metadata": {},
   "outputs": [],
   "source": [
    "def preprocess_text_func(text):\n",
    "    text_1=str(text)\n",
    "    text_1=text_1.lower()\n",
    "\n",
    "    # Tokenisation (décompose le texte en tokens)\n",
    "    tokens = word_tokenize(text_1)\n",
    "    \n",
    "    # Supprimer la ponctuation et les caractères spéciaux\n",
    "    tokens = [re.sub(f'[{re.escape(string.punctuation)}]', '', token) for token in tokens]\n",
    "    tokens = [token for token in tokens if token]  # supprimer les tokens vides après suppression ponctuation\n",
    "\n",
    "    if stop_words is None:\n",
    "        raise ValueError\n",
    "    \n",
    "    # Supprimer les stop_words\n",
    "    tokens = [token for token in tokens if token not in stop_words]\n",
    "    \n",
    "    # Appliquer le stemming\n",
    "    stemmed_tokens = [stemmer.stem(token) for token in tokens]\n",
    "\n",
    "    #Join tolkens\n",
    "    processed_text_str = ' '.join(stemmed_tokens)\n",
    "    \n",
    "    return processed_text_str"
   ]
  },
  {
   "cell_type": "code",
   "execution_count": 23,
   "id": "4658e15c",
   "metadata": {},
   "outputs": [
    {
     "data": {
      "text/html": [
       "<div>\n",
       "<style scoped>\n",
       "    .dataframe tbody tr th:only-of-type {\n",
       "        vertical-align: middle;\n",
       "    }\n",
       "\n",
       "    .dataframe tbody tr th {\n",
       "        vertical-align: top;\n",
       "    }\n",
       "\n",
       "    .dataframe thead th {\n",
       "        text-align: right;\n",
       "    }\n",
       "</style>\n",
       "<table border=\"1\" class=\"dataframe\">\n",
       "  <thead>\n",
       "    <tr style=\"text-align: right;\">\n",
       "      <th></th>\n",
       "      <th>message_id</th>\n",
       "      <th>text</th>\n",
       "      <th>label</th>\n",
       "      <th>label_text</th>\n",
       "      <th>subject</th>\n",
       "      <th>message</th>\n",
       "      <th>date</th>\n",
       "      <th>text_preprocessed</th>\n",
       "    </tr>\n",
       "  </thead>\n",
       "  <tbody>\n",
       "    <tr>\n",
       "      <th>0</th>\n",
       "      <td>33214</td>\n",
       "      <td>any software just for 15 $ - 99 $ understandin...</td>\n",
       "      <td>1</td>\n",
       "      <td>spam</td>\n",
       "      <td>any software just for 15 $ - 99 $</td>\n",
       "      <td>understanding oem software\\nlead me not into t...</td>\n",
       "      <td>2005-06-18</td>\n",
       "      <td>softwar 15 99 understand oem softwar lead temp...</td>\n",
       "    </tr>\n",
       "    <tr>\n",
       "      <th>1</th>\n",
       "      <td>11929</td>\n",
       "      <td>perspective on ferc regulatory action client c...</td>\n",
       "      <td>0</td>\n",
       "      <td>ham</td>\n",
       "      <td>perspective on ferc regulatory action client c...</td>\n",
       "      <td>19 th , 2 : 00 pm edt\\nperspective on ferc reg...</td>\n",
       "      <td>2001-06-19</td>\n",
       "      <td>perspect ferc regulatori action client conf ca...</td>\n",
       "    </tr>\n",
       "    <tr>\n",
       "      <th>2</th>\n",
       "      <td>19784</td>\n",
       "      <td>wanted to try ci 4 lis but thought it was way ...</td>\n",
       "      <td>1</td>\n",
       "      <td>spam</td>\n",
       "      <td>wanted to try ci 4 lis but thought it was way ...</td>\n",
       "      <td>viagra at $ 1 . 12 per dose\\nready to boost yo...</td>\n",
       "      <td>2004-09-11</td>\n",
       "      <td>want tri ci 4 li thought way expens viagra 1 1...</td>\n",
       "    </tr>\n",
       "    <tr>\n",
       "      <th>3</th>\n",
       "      <td>2209</td>\n",
       "      <td>enron / hpl actuals for december 11 , 2000 tec...</td>\n",
       "      <td>0</td>\n",
       "      <td>ham</td>\n",
       "      <td>enron / hpl actuals for december 11 , 2000</td>\n",
       "      <td>teco tap 30 . 000 / enron ; 120 . 000 / hpl ga...</td>\n",
       "      <td>2000-12-12</td>\n",
       "      <td>enron hpl actual decemb 11 2000 teco tap 30 00...</td>\n",
       "    </tr>\n",
       "    <tr>\n",
       "      <th>4</th>\n",
       "      <td>15880</td>\n",
       "      <td>looking for cheap high - quality software ? ro...</td>\n",
       "      <td>1</td>\n",
       "      <td>spam</td>\n",
       "      <td>looking for cheap high - quality software ? ro...</td>\n",
       "      <td>water past also , burn , course . gave country...</td>\n",
       "      <td>2005-02-13</td>\n",
       "      <td>look cheap high qualiti softwar rotat napoleon...</td>\n",
       "    </tr>\n",
       "  </tbody>\n",
       "</table>\n",
       "</div>"
      ],
      "text/plain": [
       "   message_id                                               text  label  \\\n",
       "0       33214  any software just for 15 $ - 99 $ understandin...      1   \n",
       "1       11929  perspective on ferc regulatory action client c...      0   \n",
       "2       19784  wanted to try ci 4 lis but thought it was way ...      1   \n",
       "3        2209  enron / hpl actuals for december 11 , 2000 tec...      0   \n",
       "4       15880  looking for cheap high - quality software ? ro...      1   \n",
       "\n",
       "  label_text                                            subject  \\\n",
       "0       spam                  any software just for 15 $ - 99 $   \n",
       "1        ham  perspective on ferc regulatory action client c...   \n",
       "2       spam  wanted to try ci 4 lis but thought it was way ...   \n",
       "3        ham         enron / hpl actuals for december 11 , 2000   \n",
       "4       spam  looking for cheap high - quality software ? ro...   \n",
       "\n",
       "                                             message        date  \\\n",
       "0  understanding oem software\\nlead me not into t...  2005-06-18   \n",
       "1  19 th , 2 : 00 pm edt\\nperspective on ferc reg...  2001-06-19   \n",
       "2  viagra at $ 1 . 12 per dose\\nready to boost yo...  2004-09-11   \n",
       "3  teco tap 30 . 000 / enron ; 120 . 000 / hpl ga...  2000-12-12   \n",
       "4  water past also , burn , course . gave country...  2005-02-13   \n",
       "\n",
       "                                   text_preprocessed  \n",
       "0  softwar 15 99 understand oem softwar lead temp...  \n",
       "1  perspect ferc regulatori action client conf ca...  \n",
       "2  want tri ci 4 li thought way expens viagra 1 1...  \n",
       "3  enron hpl actual decemb 11 2000 teco tap 30 00...  \n",
       "4  look cheap high qualiti softwar rotat napoleon...  "
      ]
     },
     "execution_count": 23,
     "metadata": {},
     "output_type": "execute_result"
    }
   ],
   "source": [
    "data['text_preprocessed']=data['text'].apply(preprocess_text_func)\n",
    "data.head()"
   ]
  },
  {
   "cell_type": "code",
   "execution_count": 24,
   "id": "10386faa",
   "metadata": {},
   "outputs": [],
   "source": [
    "n=789"
   ]
  },
  {
   "cell_type": "code",
   "execution_count": 25,
   "id": "bb7b0a61",
   "metadata": {},
   "outputs": [
    {
     "name": "stdout",
     "output_type": "stream",
     "text": [
      "wellhead desk - new headcount this week , the wellhead desk has done more than 150 deals . we need to discuss adding a headcount ( maybe 2 ) , as originally we were just integrating the book with the daily business . at the current pace , this is no longer an option . bob , will this require an additional headcount for logistics as well ? and , who needs to sign off on this on the commercial side ?\n",
      "thanks for your help ,\n",
      "jg\n"
     ]
    }
   ],
   "source": [
    "message_1=data.loc[n,\"text\"]\n",
    "print(message_1)"
   ]
  },
  {
   "cell_type": "code",
   "execution_count": 26,
   "id": "cf31d169",
   "metadata": {},
   "outputs": [
    {
     "name": "stdout",
     "output_type": "stream",
     "text": [
      "wellhead desk new headcount week wellhead desk done 150 deal need discuss ad headcount mayb 2 origin integr book daili busi current pace longer option bob requir addit headcount logist well need sign commerci side thank help jg\n"
     ]
    }
   ],
   "source": [
    "message=data.loc[n,\"text_preprocessed\"]\n",
    "print(message)"
   ]
  },
  {
   "cell_type": "code",
   "execution_count": 27,
   "id": "e8024042",
   "metadata": {},
   "outputs": [
    {
     "name": "stdout",
     "output_type": "stream",
     "text": [
      "0\n"
     ]
    }
   ],
   "source": [
    "label=data.loc[n,\"label\"]\n",
    "print(label)"
   ]
  },
  {
   "cell_type": "code",
   "execution_count": 28,
   "id": "5e7043fb",
   "metadata": {},
   "outputs": [
    {
     "name": "stdout",
     "output_type": "stream",
     "text": [
      "[0]\n"
     ]
    }
   ],
   "source": [
    "prediction = model.predict([message])\n",
    "print(prediction)"
   ]
  }
 ],
 "metadata": {
  "kernelspec": {
   "display_name": "Python 3",
   "language": "python",
   "name": "python3"
  },
  "language_info": {
   "codemirror_mode": {
    "name": "ipython",
    "version": 3
   },
   "file_extension": ".py",
   "mimetype": "text/x-python",
   "name": "python",
   "nbconvert_exporter": "python",
   "pygments_lexer": "ipython3",
   "version": "3.12.10"
  }
 },
 "nbformat": 4,
 "nbformat_minor": 5
}
